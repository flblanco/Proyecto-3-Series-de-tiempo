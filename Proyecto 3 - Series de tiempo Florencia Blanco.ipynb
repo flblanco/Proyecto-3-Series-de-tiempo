{
 "cells": [
  {
   "cell_type": "markdown",
   "metadata": {
    "colab_type": "text",
    "id": "Y5xSScYVId1j"
   },
   "source": [
    "# Proyecto 03 - Series de Tiempo\n",
    "\n",
    "## Dataset: Flujo Vehicular por Unidades de Peaje AUSA\n",
    "\n",
    "\n",
    "### 1. Preparación del Dataset"
   ]
  },
  {
   "cell_type": "code",
   "execution_count": null,
   "metadata": {
    "colab": {},
    "colab_type": "code",
    "id": "W7HAw3EvId1m"
   },
   "outputs": [],
   "source": [
    "import pandas as pd\n",
    "import numpy as np\n",
    "import matplotlib.pyplot as plt\n",
    "import datetime"
   ]
  },
  {
   "cell_type": "code",
   "execution_count": null,
   "metadata": {
    "colab": {},
    "colab_type": "code",
    "id": "hgxJSUQ0Id1x"
   },
   "outputs": [],
   "source": [
    "data_2019 = pd.read_csv('flujo-vehicular-2019.csv', sep =',')\n",
    "data_2018 = pd.read_csv('flujo-vehicular-2018.csv', sep =',')\n",
    "data_2017 = pd.read_csv('flujo-vehicular-2017.csv', sep =',')"
   ]
  },
  {
   "cell_type": "markdown",
   "metadata": {
    "colab_type": "text",
    "id": "OUImrZ0HId2q"
   },
   "source": [
    "##### Podemos decir entonces que los años 2017, 2018 y 2019 tienen las siguientes columnas con la siguiente información:\n",
    "\n",
    "**periodo**: año del dset \n",
    "\n",
    "**fecha**: año dia mes\n",
    "\n",
    "**hora_inicio** hora de inicio de la cuenta de vehiculos (DROP)\n",
    "\n",
    "**hora_fin** hora de fin de la cuenta de vehiculos (Vamos a usar esta para tomar la hora)\n",
    "\n",
    "**dia**: dia de la semana \n",
    "\n",
    "**estacion**: estaciones de peaje, difieren levemente entre los años (Dellepiane se unifica en 2019, antes habia Dellepiane Liniers y Centro, y se agrega PDB)\n",
    "\n",
    "**sentido**: Centro o Provincia\n",
    "\n",
    "**tipo_vehiculo**: Liviano o Pesado\n",
    "\n",
    "**forma_pago**: Hay varias y varian entre los años.\n",
    "\n",
    "**cantidad_pasos**: Cantidad de vehiculos"
   ]
  },
  {
   "cell_type": "code",
   "execution_count": null,
   "metadata": {
    "colab": {},
    "colab_type": "code",
    "id": "SOUCg2f7Id2s",
    "outputId": "7c8c43a7-63c9-4179-dc60-04c358afd65d"
   },
   "outputs": [],
   "source": [
    "dataset = pd.concat([data_2019, data_2018, data_2017])\n",
    "dataset.drop(columns = ['periodo','hora_inicio'], inplace = True)\n",
    "dataset.head()"
   ]
  },
  {
   "cell_type": "code",
   "execution_count": null,
   "metadata": {},
   "outputs": [],
   "source": [
    "dataset['dia'].value_counts()"
   ]
  },
  {
   "cell_type": "markdown",
   "metadata": {},
   "source": [
    "- Observación: Existe una clara disminución de la cantidad de vehiculos que circulan en la autopista los fines de semana."
   ]
  },
  {
   "cell_type": "code",
   "execution_count": null,
   "metadata": {
    "colab": {},
    "colab_type": "code",
    "id": "kLi3lxc_Id2x",
    "outputId": "7103c2e7-9908-48c1-e6b6-65930c273e56"
   },
   "outputs": [],
   "source": [
    "dataset['fecha2'] = pd.to_datetime(dataset.fecha) + pd.to_timedelta(dataset.hora_fin, unit = 'h')\n",
    "dataset = dataset.set_index('fecha2')\n",
    "dataset.drop(columns=['fecha','hora_fin'], inplace = True)\n",
    "dataset.head()"
   ]
  },
  {
   "cell_type": "code",
   "execution_count": null,
   "metadata": {},
   "outputs": [],
   "source": [
    "dataset.reset_index()"
   ]
  },
  {
   "cell_type": "code",
   "execution_count": null,
   "metadata": {
    "colab": {},
    "colab_type": "code",
    "id": "8coELKbyId23",
    "outputId": "e0175e08-c1bd-4bb5-9af0-3df5ebe8f152"
   },
   "outputs": [],
   "source": [
    "dataset.rename(index = {'fecha2':'fecha'}, inplace = True) "
   ]
  },
  {
   "cell_type": "code",
   "execution_count": null,
   "metadata": {},
   "outputs": [],
   "source": [
    "dataset['fecha']=dataset.index\n",
    "dataset['hora'] = dataset['fecha'].dt.hour\n",
    "dataset['dayofweek'] = dataset['fecha'].dt.dayofweek\n",
    "dataset['trimestre'] = dataset['fecha'].dt.quarter\n",
    "dataset['mes'] = dataset['fecha'].dt.month\n",
    "dataset['año'] = dataset['fecha'].dt.year\n",
    "dataset['dayofyear'] = dataset['fecha'].dt.dayofyear\n",
    "dataset['dayofmonth'] = dataset['fecha'].dt.day\n",
    "dataset['weekofyear'] = dataset['fecha'].dt.weekofyear"
   ]
  },
  {
   "cell_type": "code",
   "execution_count": null,
   "metadata": {},
   "outputs": [],
   "source": [
    "holidays2017=['2017-01-01','2017-02-27','2017-02-28','2017-03-28','2017-04-02','2017-04-13','2017-04-14','2017-05-01','2017-06-17','2017-06-20','2017-07-09','2017-08-17','2017-10-12','2017-11-20','2017-12-08','2017-12-25']\n",
    "holidays2018=['2018-01-01','2018-02-12','2018-02-13','2018-03-24','2018-03-30','2018-04-02','2018-04-30','2018-05-01','2018-05-25','2018-06-17','2018-06-20','2018-07-09','2018-08-20','2018-10-15','2018-11-19','2018-12-08','2018-12-24','2018-12-25','2018-12-31']\n",
    "holidays2019=['2019-01-01','2019-03-04','2019-03-05','2019-03-24','2019-04-02','2019-04-18','2019-04-19','2019-05-01','2019-05-25','2019-06-17','2019-06-20','2019-07-08','2019-07-09','2019-08-17','2019-08-19','2019-10-12','2019-10-14','2019-11-18','2019-12-08','2019-12-25']"
   ]
  },
  {
   "cell_type": "markdown",
   "metadata": {},
   "source": [
    "### PARTE A: Análisis Exploratorio de datos"
   ]
  },
  {
   "cell_type": "markdown",
   "metadata": {},
   "source": [
    "##### A) 1. Comportamiento del flujo de automóviles por año"
   ]
  },
  {
   "cell_type": "markdown",
   "metadata": {},
   "source": [
    "- Para realizar un análisis más detallado del comportamiento por año, utilizaré sólo la Estación **Illia** y el medio de pago **efectivo**."
   ]
  },
  {
   "cell_type": "code",
   "execution_count": null,
   "metadata": {},
   "outputs": [],
   "source": [
    "datasetillia=dataset[dataset['estacion']=='Illia']\n",
    "datasetillia=datasetillia[datasetillia['forma_pago']=='EFECTIVO']\n",
    "diarioillia = datasetillia.resample('D', on = 'fecha').sum()\n",
    "diarioillia.drop(['hora','dayofweek','trimestre','mes','año','dayofyear','dayofmonth','weekofyear'],axis=1,inplace=True)\n",
    "diarioillia.reset_index()"
   ]
  },
  {
   "cell_type": "code",
   "execution_count": null,
   "metadata": {},
   "outputs": [],
   "source": [
    "aut_2017=diarioillia.loc['2017-01-01':'2017-12-31']\n",
    "aut_2018=diarioillia.loc['2018-01-01':'2018-12-31']\n",
    "aut_2019=diarioillia.loc['2019-01-01':'2019-12-31']"
   ]
  },
  {
   "cell_type": "code",
   "execution_count": null,
   "metadata": {},
   "outputs": [],
   "source": [
    "print(f'Cantidad de registros por año:\\n2017: {aut_2017.cantidad_pasos.sum()}\\n2018: {aut_2018.cantidad_pasos.sum()}\\n2019: {aut_2019.cantidad_pasos.sum()}')"
   ]
  },
  {
   "cell_type": "markdown",
   "metadata": {},
   "source": [
    "- Observación: Existe una marcada tendencia a la disminución del pago en efectivo a lo largo del tiempo. Puede que sea por el reemplazo por la forma de pago \"Telepase\""
   ]
  },
  {
   "cell_type": "code",
   "execution_count": null,
   "metadata": {},
   "outputs": [],
   "source": [
    "import plotly.graph_objects as go\n",
    "import plotly.express as px\n",
    "fig = px.line(aut_2017, x=aut_2017.index, y='cantidad_pasos',title='Cantidad de autos en 2017 para la autopista Illia')\n",
    "fig.add_trace(go.Scatter(x=holidays2017, y=aut_2017.loc[holidays2017].cantidad_pasos,\n",
    "                    mode='markers', name='Feriados'))\n",
    "fig.update_layout(xaxis_title='Días 2017',\n",
    "                   yaxis_title='Cantidad de automóviles')\n",
    "fig.update_xaxes(nticks=100,showgrid=False)\n",
    "fig.show()\n",
    "fig2 = px.line(aut_2018, x=aut_2018.index, y='cantidad_pasos',title='Cantidad de autos en 2018 para la autopista Illia')\n",
    "fig2.add_trace(go.Scatter(x=holidays2018, y=aut_2018.loc[holidays2018].cantidad_pasos,\n",
    "                    mode='markers', name='Feriados'))\n",
    "fig2.update_layout(xaxis_title='Días 2018',\n",
    "                   yaxis_title='Cantidad de automóviles')\n",
    "fig2.update_xaxes(nticks=100,showgrid=False)\n",
    "fig2.show()\n",
    "fig3 = px.line(aut_2019, x=aut_2019.index, y='cantidad_pasos',title='Cantidad de autos en 2019 para la autopista Illia')\n",
    "fig3.add_trace(go.Scatter(x=holidays2019, y=aut_2019.loc[holidays2019].cantidad_pasos,\n",
    "                    mode='markers', name='Feriados'))\n",
    "fig3.update_layout(xaxis_title='Días 2019',\n",
    "                   yaxis_title='Cantidad de automóviles')\n",
    "fig3.update_xaxes(nticks=100,showgrid=False)\n",
    "fig3.show()"
   ]
  },
  {
   "cell_type": "markdown",
   "metadata": {},
   "source": [
    "- Los **puntos en rojo** indican los **feriados nacionales** que, como es de esperar, puede producir una disminución notable del flujo de automóviles.\n",
    "- Sin embargo, existen otros picos \"para abajo\" que pueden deberse a paros nacionales o días Domingo/vacaciones."
   ]
  },
  {
   "cell_type": "markdown",
   "metadata": {},
   "source": [
    "##### A) 2. A qué se deben los outliers en el dataset?"
   ]
  },
  {
   "cell_type": "markdown",
   "metadata": {},
   "source": [
    "###### 2017: Teniendo en cuenta lo dispuesto en el gráfico, se fija un umbral de 27.000 automóviles para ver qué ocurrió los días donde se vieron menor cantidad de registros"
   ]
  },
  {
   "cell_type": "code",
   "execution_count": null,
   "metadata": {},
   "outputs": [],
   "source": [
    "out2017=aut_2017[aut_2017['cantidad_pasos']<27000]\n",
    "print(out2017)"
   ]
  },
  {
   "cell_type": "markdown",
   "metadata": {},
   "source": [
    "- El 6 de Abril de 2017 hubo un paro nacional.\n",
    "- El 9 de Octubre de 2017 fue Domingo, puede ser un factor determinante para la disminución de automóviles en las autopistas.\n",
    "- El 24 y 31 de Diciembre son días festivos y atípicos en cuanto a la cantidad de automóviles circulando en las autopistas."
   ]
  },
  {
   "cell_type": "markdown",
   "metadata": {},
   "source": [
    "###### 2018: Teniendo en cuenta lo dispuesto en el gráfico, se fija un umbral de 25.000 automóviles para ver qué ocurrió los días donde se vieron menor cantidad de registros"
   ]
  },
  {
   "cell_type": "code",
   "execution_count": null,
   "metadata": {},
   "outputs": [],
   "source": [
    "out2018=aut_2018[aut_2018['cantidad_pasos']<25000]\n",
    "print(out2018)"
   ]
  },
  {
   "cell_type": "markdown",
   "metadata": {},
   "source": [
    "- El 25 de Junio de 2018 hubo paro nacional.\n",
    "- El 25 de Septiembre de 2018 hubo paro nacional.\n",
    "- El 29 de Noviembre fue el comienzo del G20 en Argentina.\n",
    "- El 30 de Noviembre y el 1 de diciembre se decreta feriado en CABA por la celebración de la Cumbre de Líderes del Grupo de los 20 en la ciudad.\n",
    "- El 24, 30 y 31 de Diciembre son días festivos y atípicos en cuanto a la cantidad de automóviles circulando en las autopistas."
   ]
  },
  {
   "cell_type": "markdown",
   "metadata": {},
   "source": [
    "###### 2019: Teniendo en cuenta lo dispuesto en el gráfico, se fija un umbral de 22.000 automóviles para ver qué ocurrió los días donde se vieron menor cantidad de registros"
   ]
  },
  {
   "cell_type": "code",
   "execution_count": null,
   "metadata": {},
   "outputs": [],
   "source": [
    "out2019=aut_2019[aut_2019['cantidad_pasos']<22000]\n",
    "print(out2019)"
   ]
  },
  {
   "cell_type": "markdown",
   "metadata": {},
   "source": [
    "- No existió ningún hecho relevante que explique la disminución en la cantidad de personas que se registró el 13 de Enero. Una posible razón podría ser las vacaciones de verano, sumado a que fue Domingo.\n",
    "- El 29 de Mayo hubo paro nacional.\n",
    "- El 17 de Junio fue feriado Nacional, conmemorando la muerte del General Martín Miguel de Guemes.\n",
    "- No existió ningún hecho relevante que explique la disminución en la cantidad de personas que se registró el 1 de Diciembre. Una posible razón podría ser que fue Domingo.\n",
    "- El  31 de Diciembre es día festivo y atípico en cuanto a la cantidad de automóviles circulando en las autopistas"
   ]
  },
  {
   "cell_type": "markdown",
   "metadata": {},
   "source": [
    "- Si bien existen días en 0, no imputaré su valor ya que es sólo para la forma de pago \"efectivo\". Al tomar la totalidad de las formas de pago y de estaciones, se puede notar que existen datos para las otras opciones, por lo que no me parece necesario realizar ninguna imputación."
   ]
  },
  {
   "cell_type": "markdown",
   "metadata": {
    "colab": {},
    "colab_type": "code",
    "id": "vfwxE2VXId3O"
   },
   "source": [
    "##### A) 3. Detección de horas pico por día y por sentido"
   ]
  },
  {
   "cell_type": "code",
   "execution_count": null,
   "metadata": {},
   "outputs": [],
   "source": [
    "lunes=dataset[dataset['dia']=='Lunes']\n",
    "martes=dataset[dataset['dia']=='Martes']\n",
    "mierc=dataset[dataset['dia']=='Miércoles']\n",
    "jueves=dataset[dataset['dia']=='Jueves']\n",
    "viernes=dataset[dataset['dia']=='Viernes']\n",
    "sabado=dataset[dataset['dia']=='Sábado']\n",
    "dom=dataset[dataset['dia']=='Domingo']"
   ]
  },
  {
   "cell_type": "code",
   "execution_count": null,
   "metadata": {},
   "outputs": [],
   "source": [
    "phlunes=lunes.groupby(['hora'])['cantidad_pasos'].sum()\n",
    "phmart=martes.groupby(['hora'])['cantidad_pasos'].sum()\n",
    "phmierc=mierc.groupby(['hora'])['cantidad_pasos'].sum()\n",
    "phjuev=jueves.groupby(['hora'])['cantidad_pasos'].sum()\n",
    "phvier=viernes.groupby(['hora'])['cantidad_pasos'].sum()\n",
    "phsab=sabado.groupby(['hora'])['cantidad_pasos'].sum()\n",
    "phdom=dom.groupby(['hora'])['cantidad_pasos'].sum()"
   ]
  },
  {
   "cell_type": "code",
   "execution_count": null,
   "metadata": {},
   "outputs": [],
   "source": [
    "fig = go.Figure()\n",
    "fig.add_trace(go.Scatter(y=phlunes,\n",
    "                    mode='lines',\n",
    "                    name='lunes'))\n",
    "fig.add_trace(go.Scatter(y=phmart,\n",
    "                    mode='lines',\n",
    "                    name='martes'))\n",
    "fig.add_trace(go.Scatter(y=phmierc,\n",
    "                    mode='lines',\n",
    "                    name='miercoles'))\n",
    "fig.add_trace(go.Scatter(y=phjuev,\n",
    "                    mode='lines',\n",
    "                    name='jueves'))\n",
    "fig.add_trace(go.Scatter(y=phvier,\n",
    "                    mode='lines',\n",
    "                    name='viernes'))\n",
    "fig.add_trace(go.Scatter(y=phsab,\n",
    "                    mode='lines',\n",
    "                    name='sabado'))\n",
    "fig.add_trace(go.Scatter(y=phdom,\n",
    "                    mode='lines',\n",
    "                    name='domingo'))\n",
    "fig.update_layout(title='Cantidad de automóviles que cruzan el telepeaje por día y por hora (total 2017,2018 y 2019)',\n",
    "                   xaxis_title='Hora del día',\n",
    "                   yaxis_title='Cantidad de automóviles')\n",
    "fig.update_xaxes(nticks=24,showgrid=False)\n",
    "fig.show()"
   ]
  },
  {
   "cell_type": "markdown",
   "metadata": {},
   "source": [
    "#### Conclusiones: \n",
    "    - El viernes es el día con mayor cantidad de tránsito en autopistas.\n",
    "    - Considerando únicamente los días laborales, se puede concluir que existen horas pico en las autopistas, independientemente del día laboral que se tenga en cuenta:\n",
    "            *Por la mañana, las horas picos son a las 8 y 9 hs.\n",
    "            *Durante la mitad de la tarde, los picos máximos se dan a las 13 y 16 hs.\n",
    "            *En la \"vuelta a casa/salida del trabajo\" se dan otros dos picos de circulación en autopista: 18 y 19 hs.\n",
    "    - Durante días Sábados y Domingos disminuye notablemente la cantidad de automóviles circulando, aunque también se vuelve a alcanzar un pico a las 13/14 hs y a las 19 hs durante el fin de semana.\n"
   ]
  },
  {
   "cell_type": "code",
   "execution_count": null,
   "metadata": {},
   "outputs": [],
   "source": [
    "direc=dataset.groupby(['hora','sentido'])[('cantidad_pasos')].sum().reset_index(name='cantidad_pasos')\n",
    "direc=pd.DataFrame(direc)"
   ]
  },
  {
   "cell_type": "code",
   "execution_count": null,
   "metadata": {},
   "outputs": [],
   "source": [
    "import seaborn as sns\n",
    "plt.figure(figsize=(18,6))\n",
    "sns.barplot(data=direc, x='hora',y='cantidad_pasos',hue='sentido', palette='RdPu')\n",
    "plt.xlabel('Hora')\n",
    "plt.ylabel('Cantidad de automóviles')\n",
    "plt.title('Flujo de automóviles clasificados por sentido según horario')"
   ]
  },
  {
   "cell_type": "markdown",
   "metadata": {},
   "source": [
    "#### Conclusiones: \n",
    "    - Hay una marcada diferencia entre la cantidad de autos que se desplazan hacia provincia y los que ingresan a Capital Federal.\n",
    "    - El gráfico de barras permite diferenciar que, al comienzo de la jornada laboral, existen mayor cantidad de automóviles que se desplazan de Provincia hacia el centro de Capital Federal. Al terminarla misma, la tendencia vuelve a cambiar."
   ]
  },
  {
   "cell_type": "markdown",
   "metadata": {},
   "source": [
    "##### A) 3. Análisis de la base de datos por estación"
   ]
  },
  {
   "cell_type": "code",
   "execution_count": null,
   "metadata": {},
   "outputs": [],
   "source": [
    "estaciones=dataset['estacion'].unique()\n",
    "print(f'Existen {len(estaciones)} estaciones en el dataset, cuyos nombres son: {estaciones}')"
   ]
  },
  {
   "cell_type": "code",
   "execution_count": null,
   "metadata": {},
   "outputs": [],
   "source": [
    "fig = px.pie(dataset, values='cantidad_pasos', names='estacion', title='Cantidad de registros por estación')\n",
    "fig.show()"
   ]
  },
  {
   "cell_type": "markdown",
   "metadata": {},
   "source": [
    "#### Conclusiones: \n",
    " Las dos estaciones con mayor cantidad de registros son **Illia** y **Avellaneda**."
   ]
  },
  {
   "cell_type": "markdown",
   "metadata": {},
   "source": [
    "##### A) 4. Análisis de la forma de pago por año"
   ]
  },
  {
   "cell_type": "code",
   "execution_count": null,
   "metadata": {},
   "outputs": [],
   "source": [
    "form_2017=dataset[dataset['año']==2017]\n",
    "form_2018=dataset[dataset['año']==2018]\n",
    "form_2019=dataset[dataset['año']==2019]"
   ]
  },
  {
   "cell_type": "code",
   "execution_count": null,
   "metadata": {},
   "outputs": [],
   "source": [
    "form=dataset.groupby(['forma_pago','año'])['cantidad_pasos'].sum().reset_index(name='cantidad_pasos')\n",
    "fig = px.bar(form, x=\"año\", y=\"cantidad_pasos\", color=\"forma_pago\", title=\"Cambios en la forma de pago por año\")\n",
    "fig.show()"
   ]
  },
  {
   "cell_type": "markdown",
   "metadata": {},
   "source": [
    "#### Conclusión: \n",
    "    - A medida que transcurren los años se evidencia un reemplazo del efectivo por el telepase, lo cual era de esperar debido a la implementación de este nuevo medio de pago también fue acompañado por polìticas de reducción de tarifas para los usuarios.\n"
   ]
  },
  {
   "cell_type": "markdown",
   "metadata": {},
   "source": [
    "### PARTE B: Modelo de Machine Learning"
   ]
  },
  {
   "cell_type": "markdown",
   "metadata": {},
   "source": [
    "**Pasos a seguir en la Parte B:**\n",
    "       - 1: Evaluar el comportamiento de la serie y sus componentes.\n",
    "       - 2: Evaluar estacionariedad para poder predecir.\n",
    "       - 3: Establecer un modelo Benchmark para poder comparar resultados.\n",
    "       - 4: Predicción del último trimestre 2019 con Prophet.\n",
    "       - 5: Predicción del último trimestre 2019 con XGBoost."
   ]
  },
  {
   "cell_type": "markdown",
   "metadata": {},
   "source": [
    "**Métricas a utilizar**:\n",
    "    - RMSE: Raíz del error medio cuadrático."
   ]
  },
  {
   "cell_type": "code",
   "execution_count": null,
   "metadata": {},
   "outputs": [],
   "source": [
    "from statsmodels.tsa.stattools import adfuller\n",
    "from statsmodels.tsa.seasonal import seasonal_decompose\n",
    "from statsmodels.graphics.tsaplots import plot_acf\n",
    "from statsmodels.graphics.tsaplots import plot_pacf\n",
    "import pmdarima as pm\n",
    "from pmdarima.model_selection import SlidingWindowForecastCV\n",
    "from pmdarima.model_selection import train_test_split\n",
    "from sklearn.metrics import mean_squared_error, r2_score, mean_absolute_error"
   ]
  },
  {
   "cell_type": "markdown",
   "metadata": {},
   "source": [
    "- Para el modelo de predicción, utilizaré la información disponible de las estaciones **Illia** y **Avellaneda**."
   ]
  },
  {
   "cell_type": "code",
   "execution_count": null,
   "metadata": {},
   "outputs": [],
   "source": [
    "dataset = dataset[dataset['estacion'].str.contains('Illia|Avellaneda')]\n",
    "dataset.head(3)"
   ]
  },
  {
   "cell_type": "code",
   "execution_count": null,
   "metadata": {},
   "outputs": [],
   "source": [
    "dataset['fecha']=dataset.index\n",
    "diario = dataset.resample('D', on = 'fecha').sum()"
   ]
  },
  {
   "cell_type": "code",
   "execution_count": null,
   "metadata": {},
   "outputs": [],
   "source": [
    "diario['fecha']=diario.index\n",
    "diario['hora'] = diario['fecha'].dt.hour\n",
    "diario['dayofweek'] = diario['fecha'].dt.dayofweek\n",
    "diario['trimestre'] = diario['fecha'].dt.quarter\n",
    "diario['mes'] = diario['fecha'].dt.month\n",
    "diario['año'] = diario['fecha'].dt.year\n",
    "diario['dayofyear'] = diario['fecha'].dt.dayofyear\n",
    "diario['dayofmonth'] = diario['fecha'].dt.day\n",
    "diario['weekofyear'] = diario['fecha'].dt.weekofyear"
   ]
  },
  {
   "cell_type": "code",
   "execution_count": null,
   "metadata": {},
   "outputs": [],
   "source": [
    "diario.drop(['fecha','hora','dayofweek','trimestre','año','dayofyear','dayofmonth','weekofyear'],axis=1,inplace=True)"
   ]
  },
  {
   "cell_type": "code",
   "execution_count": null,
   "metadata": {},
   "outputs": [],
   "source": [
    "print(f'Promedio de autos por día en las dos autopistas utilizadas: {round(diario.cantidad_pasos.mean(),3)}')"
   ]
  },
  {
   "cell_type": "markdown",
   "metadata": {},
   "source": [
    "##### B) 1. Evaluación del comportamiento de la serie diaria"
   ]
  },
  {
   "cell_type": "code",
   "execution_count": null,
   "metadata": {},
   "outputs": [],
   "source": [
    "import plotly.express as px\n",
    "fig = go.Figure()\n",
    "fig.add_trace(go.Scatter(x=diario.index, y=diario['cantidad_pasos'], mode='lines'))\n",
    "fig.update_layout(title='Cantidad de autos por día (2017-2019)',\n",
    "                   xaxis_title='Día',\n",
    "                   yaxis_title='Cantidad autos')"
   ]
  },
  {
   "cell_type": "markdown",
   "metadata": {},
   "source": [
    "##### B) 1. Evaluación del comportamiento de la serie mensual"
   ]
  },
  {
   "cell_type": "code",
   "execution_count": null,
   "metadata": {},
   "outputs": [],
   "source": [
    "mensual = dataset.resample('M', on = 'fecha').sum()\n",
    "fig = go.Figure()\n",
    "fig.add_trace(go.Scatter(x=mensual.index, y=mensual['cantidad_pasos'], mode='lines+markers'))\n",
    "fig.update_layout(title='Cantidad de autos por mes (2017-2019)',\n",
    "                   xaxis_title='Mes',\n",
    "                   yaxis_title='Cantidad autos')"
   ]
  },
  {
   "cell_type": "code",
   "execution_count": null,
   "metadata": {},
   "outputs": [],
   "source": [
    "diariograf=diario.loc['2019-03-01':'2019-03-31']\n",
    "fig = go.Figure()\n",
    "fig.add_trace(go.Scatter(x=diariograf.index, y=diariograf['cantidad_pasos'], mode='lines+markers'))\n",
    "fig.update_layout(title='Cantidad de autos en un mes (Marzo 2019)',\n",
    "                   xaxis_title='Mes',\n",
    "                   yaxis_title='Cantidad autos')"
   ]
  },
  {
   "cell_type": "markdown",
   "metadata": {},
   "source": [
    "- Existe una marcada tendencia a que **disminuya la cantidad de automóviles en Febrero**. El comportamiento es idéntico en los tres años de análisis"
   ]
  },
  {
   "cell_type": "markdown",
   "metadata": {},
   "source": [
    "- Otra forma de ver el comportamiento de la serie es a través de la decomposición de su tendencia, estacionalidad y residuos"
   ]
  },
  {
   "cell_type": "code",
   "execution_count": null,
   "metadata": {},
   "outputs": [],
   "source": [
    "result = seasonal_decompose(diario.cantidad_pasos, model='additive')\n",
    "plt.rcParams['figure.figsize'] = [12,12]\n",
    "result.plot()\n",
    "plt.show()"
   ]
  },
  {
   "cell_type": "markdown",
   "metadata": {},
   "source": [
    "* Otra forma de ver la tendencia"
   ]
  },
  {
   "cell_type": "code",
   "execution_count": null,
   "metadata": {},
   "outputs": [],
   "source": [
    "import statsmodels.api as sm\n",
    "ciclo, tend = sm.tsa.filters.hpfilter(diario['cantidad_pasos'])\n",
    "diario['tend'] = tend\n",
    "diario[['cantidad_pasos', 'tend']].plot(figsize=(18, 6), fontsize=12)"
   ]
  },
  {
   "cell_type": "markdown",
   "metadata": {},
   "source": [
    "#### Conclusiones de 1:\n",
    "    - La serie presenta una estacionalidad anual, que se observa al ver una marcada reducción de la cantidad de usuarios hacia enero/febrero y también semanal, que puede verse en detalle al disminuir la frecuencia de datos y observar que para los fines de semana la cantidad de usuarios baja notablemente."
   ]
  },
  {
   "cell_type": "markdown",
   "metadata": {},
   "source": [
    "##### B) 2. Evaluación de la estacionariedad de la serie "
   ]
  },
  {
   "cell_type": "markdown",
   "metadata": {},
   "source": [
    "- Es necesario trabajar con una serie estacionaria, ya que las predicciones suelen ser más confiables. Es por esto que se va a chequear la estacionariedad de la serie a través del test de Dickey-Fuller, donde la hipótesis nula es que la serie no es estacionaria. Por lo tanto, el *p-value* tiene que permitir rechazar H0."
   ]
  },
  {
   "cell_type": "code",
   "execution_count": null,
   "metadata": {},
   "outputs": [],
   "source": [
    "def adf_test(series, title=''):\n",
    "    \"\"\"\n",
    "    Pass in a time series and an optional title, returns an ADF report\n",
    "    \"\"\"\n",
    "    print('Test de Dickey Fuller: {}'.format(title))\n",
    "    # .dropna() handles differenced data\n",
    "    result = adfuller(series.dropna(),autolag='AIC') \n",
    "    \n",
    "    labels = ['ADF test statistic','p-value','# lags used','# observations']\n",
    "    out = pd.Series(result[0:4],index=labels)\n",
    "\n",
    "    for key,val in result[4].items():\n",
    "        out['critical value ({})'.format(key)]=val\n",
    "        \n",
    "    # .to_string() removes the line \"dtype: float64\"\n",
    "    print(out.to_string())          \n",
    "    if result[1] <= 0.05:\n",
    "        print(\"Strong evidence against the null hypothesis\")\n",
    "    else:\n",
    "        print(\"Weak evidence against the null hypothesis\")\n",
    "        \n",
    "        \n",
    "adf_test(diario['cantidad_pasos'],title='') "
   ]
  },
  {
   "cell_type": "markdown",
   "metadata": {},
   "source": [
    "#### Conclusión:\n",
    "    -Con un p-value menor a 0.01, existe evidencia suficiente para confirmar que la serie \"cantidad_pasos\" es estacionaria (no es una serie random walk)."
   ]
  },
  {
   "cell_type": "markdown",
   "metadata": {},
   "source": [
    "##### Autocorrelación de la serie"
   ]
  },
  {
   "cell_type": "code",
   "execution_count": null,
   "metadata": {},
   "outputs": [],
   "source": [
    "plot_acf(diario['cantidad_pasos'], lags=90)"
   ]
  },
  {
   "cell_type": "markdown",
   "metadata": {},
   "source": [
    "- Existe autocorrelación de su variable con su rezago cada 7 días, lo cual tiene sentido ya que la cantidad de automóviles que circulan depende del día del que se tenga en consideración."
   ]
  },
  {
   "cell_type": "markdown",
   "metadata": {},
   "source": [
    "- La presencia de autocorrelación permite confirmar que los rezagos de la variable pueden usarse para predecir su valor a futuro."
   ]
  },
  {
   "cell_type": "markdown",
   "metadata": {},
   "source": [
    "##### B) 3. Establecer un Modelo Benchmark"
   ]
  },
  {
   "cell_type": "markdown",
   "metadata": {},
   "source": [
    "Observación a tener en cuenta para comparar RMSE:"
   ]
  },
  {
   "cell_type": "code",
   "execution_count": null,
   "metadata": {},
   "outputs": [],
   "source": [
    "print(f'Cantidad promedio diario de automóviles que transitan por Illia y Avellaneda: {round(diario.cantidad_pasos.mean(),3)}')"
   ]
  },
  {
   "cell_type": "code",
   "execution_count": null,
   "metadata": {},
   "outputs": [],
   "source": [
    "diario['shift_7']=diario.cantidad_pasos.shift(periods=7)"
   ]
  },
  {
   "cell_type": "code",
   "execution_count": null,
   "metadata": {},
   "outputs": [],
   "source": [
    "split_date = '2019-10-01'\n",
    "test = diario.loc[diario.index >= split_date].copy()"
   ]
  },
  {
   "cell_type": "markdown",
   "metadata": {},
   "source": [
    "- RMSE del Modelo benchmark:"
   ]
  },
  {
   "cell_type": "code",
   "execution_count": null,
   "metadata": {},
   "outputs": [],
   "source": [
    "ybench=test.cantidad_pasos\n",
    "ypredbench=diario.loc['2019-10-01':'2019-12-31'].shift_7"
   ]
  },
  {
   "cell_type": "code",
   "execution_count": null,
   "metadata": {},
   "outputs": [],
   "source": [
    "rmsebench = np.sqrt(mean_squared_error(ybench, ypredbench))\n",
    "print(f'RMSE del Modelo Benchmark: {np.round(rmsebench,3)}')"
   ]
  },
  {
   "cell_type": "markdown",
   "metadata": {},
   "source": [
    "##### B) 4. a) Predicción del último trimestre 2019 con Prophet."
   ]
  },
  {
   "cell_type": "code",
   "execution_count": null,
   "metadata": {},
   "outputs": [],
   "source": [
    "from fbprophet import Prophet"
   ]
  },
  {
   "cell_type": "markdown",
   "metadata": {},
   "source": [
    "* Train/test split utilizando como corte el último trimestre de 2019"
   ]
  },
  {
   "cell_type": "code",
   "execution_count": null,
   "metadata": {},
   "outputs": [],
   "source": [
    "diario.rename(columns={'fecha':'ds',\n",
    "                     'cantidad_pasos':'y'},inplace=True)"
   ]
  },
  {
   "cell_type": "code",
   "execution_count": null,
   "metadata": {},
   "outputs": [],
   "source": [
    "diario['ds']=diario.index\n",
    "train = diario.loc[diario.index < split_date].copy()\n",
    "test = diario.loc[diario.index >= split_date].copy()"
   ]
  },
  {
   "cell_type": "code",
   "execution_count": null,
   "metadata": {},
   "outputs": [],
   "source": [
    "plt.figure(figsize=(18,6))\n",
    "plt.plot(train['y'],label='Data en train',color='green')\n",
    "plt.plot(test['y'],label='Data en test',color='blue')\n",
    "plt.legend()\n",
    "plt.xlabel('Fecha')\n",
    "plt.ylabel('Cantidad de autos')\n",
    "plt.show()"
   ]
  },
  {
   "cell_type": "markdown",
   "metadata": {},
   "source": [
    "* Predicción de la cantidad de automóviles para el último trimestre de 2019 utilizando Prophet"
   ]
  },
  {
   "cell_type": "code",
   "execution_count": null,
   "metadata": {},
   "outputs": [],
   "source": [
    "prop = Prophet(weekly_seasonality=True)\n",
    "prop.fit(train)\n",
    "predic = prop.make_future_dataframe(periods=92, freq='D')\n",
    "forecast = prop.predict(predic)\n",
    "forecast[['ds', 'yhat', 'yhat_lower', 'yhat_upper']].tail()"
   ]
  },
  {
   "cell_type": "code",
   "execution_count": null,
   "metadata": {},
   "outputs": [],
   "source": [
    "\\f, ax = plt.subplots(1)\n",
    "f.set_figheight(5)\n",
    "f.set_figwidth(15)\n",
    "fig = prop.plot(forecast,\n",
    "                 ax=ax)\n",
    "plt.show()"
   ]
  },
  {
   "cell_type": "code",
   "execution_count": null,
   "metadata": {},
   "outputs": [],
   "source": [
    "fig2 = prop.plot_components(forecast)"
   ]
  },
  {
   "cell_type": "markdown",
   "metadata": {},
   "source": [
    "- Los componentes de la predicción parecen mostrar una igual a la esperada: la tendencia muestra una baja hacia 2019, lo cual se condice con los datos analizados, como asi lo hace la frecuencia semanal, la cual disminuye los fines de semana. Lo mismo ocurre con la frecuencia anual, ya que se muestra un descenso hacia los meses de vacaciones, como lo es Enero."
   ]
  },
  {
   "cell_type": "code",
   "execution_count": null,
   "metadata": {},
   "outputs": [],
   "source": [
    "f, ax = plt.subplots(1)\n",
    "f.set_figheight(5)\n",
    "f.set_figwidth(15)\n",
    "fig = prop.plot(forecast,\n",
    "                 ax=ax)\n",
    "plt.scatter(test['ds'],test['y'], color='r')\n",
    "plt.show()"
   ]
  },
  {
   "cell_type": "code",
   "execution_count": null,
   "metadata": {},
   "outputs": [],
   "source": [
    "from fbprophet.plot import plot_plotly, plot_components_plotly\n",
    "plot_plotly(prop, forecast)"
   ]
  },
  {
   "cell_type": "markdown",
   "metadata": {},
   "source": [
    "* RMSE del modelo Prophet"
   ]
  },
  {
   "cell_type": "code",
   "execution_count": null,
   "metadata": {},
   "outputs": [],
   "source": [
    "from sklearn.metrics import mean_squared_error, r2_score, mean_absolute_error\n",
    "rmseprop = (mean_squared_error(test['y'], forecast.yhat[-92:]))\n",
    "print(f'RMSE: {round(np.sqrt(rmseprop),3)}')"
   ]
  },
  {
   "cell_type": "markdown",
   "metadata": {},
   "source": [
    "- El modelo mejora su RMSE con respecto al benchmark establecido (de 53.686 pasa a 39.393). No obstante, intentaré mejorar la predicción con Prophet utilizando Cross Validation."
   ]
  },
  {
   "cell_type": "markdown",
   "metadata": {},
   "source": [
    "##### B) 4. b) Cross Validation con Prophet."
   ]
  },
  {
   "cell_type": "code",
   "execution_count": null,
   "metadata": {},
   "outputs": [],
   "source": [
    "from fbprophet.diagnostics import cross_validation"
   ]
  },
  {
   "cell_type": "code",
   "execution_count": null,
   "metadata": {},
   "outputs": [],
   "source": [
    "cvprop= cross_validation(prop, initial='366 days',horizon='92 days')"
   ]
  },
  {
   "cell_type": "code",
   "execution_count": null,
   "metadata": {},
   "outputs": [],
   "source": [
    "from fbprophet.diagnostics import performance_metrics\n",
    "metric = performance_metrics(cvprop)\n",
    "metric"
   ]
  },
  {
   "cell_type": "code",
   "execution_count": null,
   "metadata": {},
   "outputs": [],
   "source": [
    "print(f'RMSE para un horizonte de 92 días: {round(metric.iloc[82,2],3)}')"
   ]
  },
  {
   "cell_type": "code",
   "execution_count": null,
   "metadata": {},
   "outputs": [],
   "source": [
    "from fbprophet.plot import plot_cross_validation_metric\n",
    "fig = plot_cross_validation_metric(cvprop, metric='rmse')"
   ]
  },
  {
   "cell_type": "markdown",
   "metadata": {},
   "source": [
    "- El gráfico del RMSE muestra que, si bien el modelo presenta ciertas mediciones muy erráticas (outliers) antes de los 20 días de horizonte y después de los 60, en general se mantiene en un rmse esperado para el resto de las observaciones"
   ]
  },
  {
   "cell_type": "markdown",
   "metadata": {},
   "source": [
    "- Haciendo Cross Validation teniendo en cuenta el mismo horizonte temporal (92 días, haciendo referencia al último trimestre del 2019) se achica el RMSE del modelo, pasando de 39.323 a 37.766."
   ]
  },
  {
   "cell_type": "markdown",
   "metadata": {},
   "source": [
    "#### Conclusiones de hacer forecast con Prophet:\n",
    "    - El RMSE no resulta muy significativo, teniendo en cuenta que el promedio de autos que pasan por día sumando las dos autopistas (Illia y Avellaneda) es de 229.208. \n",
    "    - Lo bueno del modelo es que tiene en cuenta perfectamente la estacionalidad de la serie (semanal), haciendo la predicción mucho más exacta."
   ]
  },
  {
   "cell_type": "markdown",
   "metadata": {},
   "source": [
    "##### B) 5. a) Predicción del último trimestre de 2019 con XGBoost."
   ]
  },
  {
   "cell_type": "code",
   "execution_count": null,
   "metadata": {},
   "outputs": [],
   "source": [
    "import xgboost as xgb\n",
    "from xgboost import plot_importance, plot_tree"
   ]
  },
  {
   "cell_type": "code",
   "execution_count": null,
   "metadata": {},
   "outputs": [],
   "source": [
    "dataset.drop(['dia', 'estacion', 'sentido', 'tipo_vehiculo', 'forma_pago'], axis=1, inplace = True)"
   ]
  },
  {
   "cell_type": "code",
   "execution_count": null,
   "metadata": {},
   "outputs": [],
   "source": [
    "dia = dataset.resample('D', on = 'fecha').sum()"
   ]
  },
  {
   "cell_type": "code",
   "execution_count": null,
   "metadata": {},
   "outputs": [],
   "source": [
    "dia['fecha']=dia.index\n",
    "dia['dayofweek'] = dia['fecha'].dt.dayofweek\n",
    "dia['trimestre'] = dia['fecha'].dt.quarter\n",
    "dia['mes'] = dia['fecha'].dt.month\n",
    "dia['año'] = dia['fecha'].dt.year\n",
    "dia['dayofyear'] = dia['fecha'].dt.dayofyear\n",
    "dia['dayofmonth'] = dia['fecha'].dt.day\n",
    "dia['weekofyear'] = dia['fecha'].dt.weekofyear"
   ]
  },
  {
   "cell_type": "code",
   "execution_count": null,
   "metadata": {},
   "outputs": [],
   "source": [
    "dia.drop(['fecha'],axis=1,inplace=True)"
   ]
  },
  {
   "cell_type": "markdown",
   "metadata": {},
   "source": [
    "* Train/test split utilizando como corte el último trimestre de 2019"
   ]
  },
  {
   "cell_type": "code",
   "execution_count": null,
   "metadata": {},
   "outputs": [],
   "source": [
    "split_date = '10-01-2019'\n",
    "xg_train = dia.loc[dia.index < split_date].copy()\n",
    "xg_test = dia.loc[dia.index >= split_date].copy()"
   ]
  },
  {
   "cell_type": "code",
   "execution_count": null,
   "metadata": {},
   "outputs": [],
   "source": [
    "X_train=xg_train.drop(['cantidad_pasos'],axis=1)\n",
    "y_train=xg_train['cantidad_pasos']\n",
    "X_test=xg_test.drop(['cantidad_pasos'],axis=1)\n",
    "y_test=xg_test['cantidad_pasos']"
   ]
  },
  {
   "cell_type": "code",
   "execution_count": null,
   "metadata": {},
   "outputs": [],
   "source": [
    "reg = xgb.XGBRegressor(n_estimators=100)\n",
    "reg.fit(X_train, y_train)"
   ]
  },
  {
   "cell_type": "markdown",
   "metadata": {},
   "source": [
    "* Predicción de la cantidad de automóviles para el último trimestre de 2019 utilizando XGBoost"
   ]
  },
  {
   "cell_type": "code",
   "execution_count": null,
   "metadata": {},
   "outputs": [],
   "source": [
    "y_test_predxg = reg.predict(X_test)\n",
    "y_train_predxg = reg.predict(X_train)"
   ]
  },
  {
   "cell_type": "code",
   "execution_count": null,
   "metadata": {},
   "outputs": [],
   "source": [
    "from sklearn.metrics import mean_squared_error, r2_score, mean_absolute_error\n",
    "rmse_trainxg = np.sqrt(mean_squared_error(y_train, y_train_predxg))\n",
    "rmse_testxg = np.sqrt(mean_squared_error(y_test, y_test_predxg))\n",
    "print(f'Raíz del error cuadrático medio en Train: {np.round(rmse_trainxg,5)}')\n",
    "print(f'Raíz del error cuadrático medio en Test: {np.round(rmse_testxg,5)}')\n",
    "plt.figure(figsize = (14,4))\n",
    "\n",
    "plt.subplot(1,2,1)\n",
    "sns.distplot(y_train - y_train_predxg, bins = 20, label = 'train',color='yellow')\n",
    "sns.distplot(y_test - y_test_predxg, bins = 20, label = 'test',color='green')\n",
    "plt.xlabel('errores')\n",
    "plt.legend()\n",
    "\n",
    "\n",
    "ax = plt.subplot(1,2,2)\n",
    "ax.scatter(y_test,y_test_predxg, s =2,marker='*',c='purple')\n",
    "\n",
    "lims = [\n",
    "np.min([ax.get_xlim(), ax.get_ylim()]),  # min of both axes\n",
    "np.max([ax.get_xlim(), ax.get_ylim()]),  # max of both axes]\n",
    "]\n",
    "\n",
    "ax.plot(lims, lims, 'k-', alpha=0.75, zorder=0)\n",
    "plt.xlabel('y (test)')\n",
    "plt.ylabel('y_pred (test)')\n",
    "\n",
    "plt.tight_layout()\n",
    "plt.show()"
   ]
  },
  {
   "cell_type": "code",
   "execution_count": null,
   "metadata": {},
   "outputs": [],
   "source": [
    "imp = plot_importance(reg, height=0.6)"
   ]
  },
  {
   "cell_type": "markdown",
   "metadata": {},
   "source": [
    "* RMSE del modelo XGBoost"
   ]
  },
  {
   "cell_type": "code",
   "execution_count": null,
   "metadata": {},
   "outputs": [],
   "source": [
    "rmsexg = np.sqrt(mean_squared_error(y_test, y_test_predxg))\n",
    "print(f'RMSE de modelo XGBoost: {round((rmsexg),3)}')"
   ]
  },
  {
   "cell_type": "markdown",
   "metadata": {},
   "source": [
    "- El modelo de predicción con XGBoost mejora su RMSE con respecto al modelo benchmark establecido (de 53.686 pasa a 36.367). No obstante, intentaré mejorar su performance utilizando Cross Validation"
   ]
  },
  {
   "cell_type": "markdown",
   "metadata": {},
   "source": [
    "##### B) 5. b) Cross Validation con XGBoost."
   ]
  },
  {
   "cell_type": "code",
   "execution_count": null,
   "metadata": {},
   "outputs": [],
   "source": [
    "from sklearn.model_selection import GridSearchCV\n",
    "parameters = {'gamma':np.arange(0,10,1),'eta':np.arange(0,1,0.1), 'n_estimators': np.arange(100,150,30)}\n",
    "\n",
    "xg_regopt = GridSearchCV(reg, parameters, verbose=True)\n",
    "\n",
    "xg_regopt.fit(X_train, y_train)"
   ]
  },
  {
   "cell_type": "code",
   "execution_count": null,
   "metadata": {},
   "outputs": [],
   "source": [
    "print(f'Los parámetros óptimos son: {xg_regopt.best_params_}')"
   ]
  },
  {
   "cell_type": "code",
   "execution_count": null,
   "metadata": {},
   "outputs": [],
   "source": [
    "y_test_optxg = xg_regopt.predict(X_test)\n",
    "y_train_optxg = xg_regopt.predict(X_train)"
   ]
  },
  {
   "cell_type": "markdown",
   "metadata": {},
   "source": [
    "- RMSE con XGBoost optimizado"
   ]
  },
  {
   "cell_type": "code",
   "execution_count": null,
   "metadata": {},
   "outputs": [],
   "source": [
    "rmsexgopt = np.sqrt(mean_squared_error(y_test, y_test_optxg))\n",
    "print(f'RMSE de modelo XGBoost: {round((rmsexgopt),3)}')"
   ]
  },
  {
   "cell_type": "code",
   "execution_count": null,
   "metadata": {},
   "outputs": [],
   "source": [
    "rmse_trainxg = np.sqrt(mean_squared_error(y_train, y_train_optxg))\n",
    "rmse_testxg = np.sqrt(mean_squared_error(y_test, y_test_optxg))\n",
    "print(f'Raíz del error cuadrático medio en Train: {np.round(rmse_trainxg,5)}')\n",
    "print(f'Raíz del error cuadrático medio en Test: {np.round(rmse_testxg,5)}')\n",
    "plt.figure(figsize = (14,4))\n",
    "\n",
    "plt.subplot(1,2,1)\n",
    "sns.distplot(y_train - y_train_optxg, bins = 20, label = 'train',color='yellow')\n",
    "sns.distplot(y_test - y_test_optxg, bins = 20, label = 'test',color='green')\n",
    "plt.xlabel('errores')\n",
    "plt.legend()\n",
    "\n",
    "\n",
    "ax = plt.subplot(1,2,2)\n",
    "ax.scatter(y_test,y_test_optxg, s =2,marker='*',c='purple')\n",
    "\n",
    "lims = [\n",
    "np.min([ax.get_xlim(), ax.get_ylim()]),  # min of both axes\n",
    "np.max([ax.get_xlim(), ax.get_ylim()]),  # max of both axes]\n",
    "]\n",
    "\n",
    "ax.plot(lims, lims, 'k-', alpha=0.75, zorder=0)\n",
    "plt.xlabel('y (test)')\n",
    "plt.ylabel('y_pred (test)')\n",
    "\n",
    "plt.tight_layout()\n",
    "plt.show()"
   ]
  },
  {
   "cell_type": "markdown",
   "metadata": {},
   "source": [
    "#### Conclusiones de hacer predicción con XGBoost"
   ]
  },
  {
   "cell_type": "markdown",
   "metadata": {},
   "source": [
    "- La predicción con XGBoost me permite alcanzar un RMSE más bajo que con Prophet (23.043), sin mejorar optimizando hiperparámetros con Cross Validation. Los hiperparámetros establecidos a evaluar son los que consideré adecuados según el modelo."
   ]
  },
  {
   "cell_type": "markdown",
   "metadata": {},
   "source": [
    "- A su vez, el análisis de la importancia relativa entre las variables que participan en la estimación permite observar que la hora es importante a la predicción, lo cual tiene sentido, y también el día de la semana a analizar, lo que puede dar indicio que estaría siendo necesario una dummy que capte los feriados o paros nacionales."
   ]
  },
  {
   "cell_type": "markdown",
   "metadata": {},
   "source": [
    "### PARTE C: Investigación"
   ]
  },
  {
   "cell_type": "markdown",
   "metadata": {},
   "source": [
    "Existen limitaciones en el análisis de la PARTE B, que probablemente puedan ser eliminadas a partir de un análisis más detallado del dataset: \n",
    "    - En Argentina están los días feriados, que pueden ser detectados a través de la libreria datetime, pero también existen feriados \"puente\", que se crean mediante la Ley, o feriados trasladables, que si bien figuran como feriados pueden ser considerados días hábiles.\n",
    "    - A su vez, el tráfico en Buenos Aires puede verse afectado también por paros nacionales, donde se reduce notablemente la cantidad de autos circulando, afectando a la predicción realizada. \n",
    "\n",
    "Es por esto que resulta fundamental **agregar estos datos para mejorar la predicción a través de variables booleanas.** El objetivo de la PARTE C será añadir estos datos para ver si mejora el RMSE del modelo."
   ]
  },
  {
   "cell_type": "code",
   "execution_count": null,
   "metadata": {},
   "outputs": [],
   "source": [
    "dataset = pd.concat([data_2019, data_2018, data_2017])\n",
    "dataset.drop(columns = ['periodo','hora_inicio'], inplace = True)\n",
    "dataset['fecha2'] = pd.to_datetime(dataset.fecha) + pd.to_timedelta(dataset.hora_fin, unit = 'h')\n",
    "dataset = dataset.set_index('fecha2')\n",
    "dataset.drop(columns=['fecha','hora_fin'], inplace = True)\n",
    "dataset = dataset[dataset['estacion'].str.contains('Illia|Avellaneda')]"
   ]
  },
  {
   "cell_type": "code",
   "execution_count": null,
   "metadata": {},
   "outputs": [],
   "source": [
    "dataset.reset_index()\n",
    "dataset.rename({'fecha2':'fecha'}, inplace = True) "
   ]
  },
  {
   "cell_type": "code",
   "execution_count": null,
   "metadata": {},
   "outputs": [],
   "source": [
    "dataset['fecha']=dataset.index\n",
    "dataset=dataset.resample('D', on='fecha').sum()"
   ]
  },
  {
   "cell_type": "code",
   "execution_count": null,
   "metadata": {},
   "outputs": [],
   "source": [
    "dataset['fecha']=dataset.index\n",
    "dataset['dayofweek'] = dataset['fecha'].dt.dayofweek\n",
    "dataset['trimestre'] = dataset['fecha'].dt.quarter\n",
    "dataset['mes'] = dataset['fecha'].dt.month\n",
    "dataset['año'] = dataset['fecha'].dt.year\n",
    "dataset['dayofyear'] = dataset['fecha'].dt.dayofyear\n",
    "dataset['dayofmonth'] = dataset['fecha'].dt.day\n",
    "dataset['weekofyear'] = dataset['fecha'].dt.weekofyear"
   ]
  },
  {
   "cell_type": "code",
   "execution_count": null,
   "metadata": {},
   "outputs": [],
   "source": [
    "dataset.drop(['fecha'],axis=1,inplace=True)"
   ]
  },
  {
   "cell_type": "markdown",
   "metadata": {},
   "source": [
    "##### C) 1. Feriados en Argentina"
   ]
  },
  {
   "cell_type": "code",
   "execution_count": null,
   "metadata": {},
   "outputs": [],
   "source": [
    "import holidays\n",
    "\n",
    "feriados= holidays.Argentina()\n",
    "fer_2017=feriados['2017-01-01': '2017-12-31']\n",
    "fer_2018=feriados['2018-01-01': '2018-12-31']\n",
    "fer_2019=feriados['2019-01-01': '2019-12-31']"
   ]
  },
  {
   "cell_type": "code",
   "execution_count": null,
   "metadata": {},
   "outputs": [],
   "source": [
    "feriados=[]\n",
    "for i in sorted(fer_2017):\n",
    "    feriados.append(i.strftime('%Y/%m/%d'))\n",
    "for i in sorted(fer_2018):\n",
    "    feriados.append(i.strftime('%Y/%m/%d'))\n",
    "for i in sorted(fer_2019):\n",
    "    feriados.append(i.strftime('%Y/%m/%d'))"
   ]
  },
  {
   "cell_type": "markdown",
   "metadata": {},
   "source": [
    "##### C) 2. Paros nacionales en Argentina"
   ]
  },
  {
   "cell_type": "code",
   "execution_count": null,
   "metadata": {},
   "outputs": [],
   "source": [
    "paros=['2017-04-06','2018-06-18','2018-09-25','2018-11-30','2019-05-29']\n",
    "paros=pd.to_datetime(paros,format='%Y/%m/%d')\n",
    "paros=pd.DataFrame(paros,columns=['paros'])"
   ]
  },
  {
   "cell_type": "markdown",
   "metadata": {},
   "source": [
    "- El 30 de noviembre fue el día del G20 en Argentina, pero se puede tomar como un paro ya que disminuyó la cantidad de vehículos en circulación por una limitación del tránsito por parte del gobierno nacional."
   ]
  },
  {
   "cell_type": "code",
   "execution_count": null,
   "metadata": {},
   "outputs": [],
   "source": [
    "feriados_df = pd.DataFrame({'feriados': pd.to_datetime(feriados)})"
   ]
  },
  {
   "cell_type": "code",
   "execution_count": null,
   "metadata": {},
   "outputs": [],
   "source": [
    "dataset = pd.merge(dataset, feriados_df, how = 'left',left_on='fecha',right_on = 'feriados').set_index(dataset.index)\n",
    "dataset.loc[dataset.feriados.isna(), 'is_feriado'] = 0\n",
    "dataset.loc[~dataset.feriados.isna(), 'is_feriado'] = 1"
   ]
  },
  {
   "cell_type": "code",
   "execution_count": null,
   "metadata": {},
   "outputs": [],
   "source": [
    "dataset = pd.merge(dataset, paros, how = 'left',left_on='fecha',right_on = 'paros').set_index(dataset.index)\n",
    "dataset.loc[dataset.paros.isna(), 'eventoext'] = 0\n",
    "dataset.loc[~dataset.paros.isna(), 'eventoext'] = 1"
   ]
  },
  {
   "cell_type": "code",
   "execution_count": null,
   "metadata": {},
   "outputs": [],
   "source": [
    "dataset.drop(['feriados'],axis=1,inplace=True)\n",
    "dataset.drop(['paros'],axis=1,inplace=True)"
   ]
  },
  {
   "cell_type": "code",
   "execution_count": null,
   "metadata": {},
   "outputs": [],
   "source": [
    "#Controlando la correcta señalización de feriados\n",
    "print(f'Longitud del dataset de feriados: {len(feriados)}')\n",
    "print(f'Nueva variable booleana para indicar feriados: {(dataset.is_feriado==1).sum()}')"
   ]
  },
  {
   "cell_type": "code",
   "execution_count": null,
   "metadata": {},
   "outputs": [],
   "source": [
    "#Controlando la correcta señalización de paros\n",
    "print(f'Longitud del dataset de feriados: {len(paros)}')\n",
    "print(f'Nueva variable booleana para indicar feriados: {(dataset.eventoext==1).sum()}')"
   ]
  },
  {
   "cell_type": "markdown",
   "metadata": {},
   "source": [
    "- Teniendo la nueva variable detallada para captar los posibles \"outliers\", haré nuevamente la predicción con XGBoost para ver si mejora el RMSE."
   ]
  },
  {
   "cell_type": "code",
   "execution_count": null,
   "metadata": {},
   "outputs": [],
   "source": [
    "split_date = '10-01-2019'\n",
    "xg_trainout = dataset.loc[dataset.index < split_date].copy()\n",
    "xg_testout = dataset.loc[dataset.index >= split_date].copy()"
   ]
  },
  {
   "cell_type": "code",
   "execution_count": null,
   "metadata": {},
   "outputs": [],
   "source": [
    "X_train=xg_trainout.drop(['cantidad_pasos'],axis=1)\n",
    "y_train=xg_trainout['cantidad_pasos']\n",
    "X_test=xg_testout.drop(['cantidad_pasos'],axis=1)\n",
    "y_test=xg_testout['cantidad_pasos']"
   ]
  },
  {
   "cell_type": "code",
   "execution_count": null,
   "metadata": {},
   "outputs": [],
   "source": [
    "regout = xgb.XGBRegressor(n_estimators=100)\n",
    "regout.fit(X_train, y_train)"
   ]
  },
  {
   "cell_type": "code",
   "execution_count": null,
   "metadata": {},
   "outputs": [],
   "source": [
    "y_test_out = regout.predict(X_test)\n",
    "y_train_out = regout.predict(X_train)"
   ]
  },
  {
   "cell_type": "code",
   "execution_count": null,
   "metadata": {},
   "outputs": [],
   "source": [
    "rmseout = np.sqrt(mean_squared_error(y_test, y_test_out))\n",
    "print(f'RMSE de modelo XGBoost: {round((rmseout),3)}')"
   ]
  },
  {
   "cell_type": "markdown",
   "metadata": {},
   "source": [
    "- El RMSE aumenta añadiendo las dos variables booleanas que tienen en cuenta los posibles outliers que pueden surgir los días feriados o los paros nacionales con respectoa  la circulación de vehículos por la autopista."
   ]
  },
  {
   "cell_type": "markdown",
   "metadata": {},
   "source": [
    "### Conclusiones a tener en cuenta para futuros trabajos con el dataset"
   ]
  },
  {
   "cell_type": "markdown",
   "metadata": {},
   "source": [
    "- La posibilidad de acceder al medio de pago utilizado por cada vehículo permite poder medir en términos de eficiencia el cambio de efectivo hacia telepase, dos de los medios más utilizados por los usuarios."
   ]
  },
  {
   "cell_type": "markdown",
   "metadata": {},
   "source": [
    "- A su vez, sin tener en cuenta el contexto actual, otro trabajo que me gustaría profundizar en un futuro sería proyectar hacia qué año desaparecería cualquier medio de pago que no sea el telepase, para eficientizar el tiempo de espera en las cabinas de telepeaje."
   ]
  }
 ],
 "metadata": {
  "colab": {
   "collapsed_sections": [],
   "name": "DS_Proyecto_03_ST.ipynb",
   "provenance": []
  },
  "kernelspec": {
   "display_name": "Python 3",
   "language": "python",
   "name": "python3"
  },
  "language_info": {
   "codemirror_mode": {
    "name": "ipython",
    "version": 3
   },
   "file_extension": ".py",
   "mimetype": "text/x-python",
   "name": "python",
   "nbconvert_exporter": "python",
   "pygments_lexer": "ipython3",
   "version": "3.8.3"
  }
 },
 "nbformat": 4,
 "nbformat_minor": 1
}
